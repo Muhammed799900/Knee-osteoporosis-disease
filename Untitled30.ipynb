{
  "nbformat": 4,
  "nbformat_minor": 0,
  "metadata": {
    "colab": {
      "provenance": [],
      "authorship_tag": "ABX9TyOhkRNN4nwEIxsWTtz7Pqa6"
    },
    "kernelspec": {
      "name": "python3",
      "display_name": "Python 3"
    },
    "language_info": {
      "name": "python"
    }
  },
  "cells": [
    {
      "cell_type": "code",
      "execution_count": 1,
      "metadata": {
        "colab": {
          "base_uri": "https://localhost:8080/"
        },
        "id": "JBP1jLCYBRTb",
        "outputId": "43acaf51-291c-45ad-ac4f-8b02b2db0818"
      },
      "outputs": [
        {
          "output_type": "stream",
          "name": "stdout",
          "text": [
            "git version 2.34.1\n"
          ]
        }
      ],
      "source": [
        "!git --version  # check if Git is already installed\n"
      ]
    },
    {
      "cell_type": "code",
      "source": [
        "!git config --global user.name \"Muhammad Sani\"\n",
        "!git config --global user.email \"youremail@example.com\"\n"
      ],
      "metadata": {
        "id": "fHwiKVuJBTg_"
      },
      "execution_count": 2,
      "outputs": []
    },
    {
      "cell_type": "code",
      "source": [
        "!git clone https://github.com/https://github.com/Muhammed799900\n"
      ],
      "metadata": {
        "colab": {
          "base_uri": "https://localhost:8080/"
        },
        "id": "eZqY3XYvBTkX",
        "outputId": "eebda4b8-b9eb-4eef-c78c-51664ed0ae8d"
      },
      "execution_count": 4,
      "outputs": [
        {
          "output_type": "stream",
          "name": "stdout",
          "text": [
            "Cloning into 'Muhammed799900'...\n",
            "remote: Not Found\n",
            "fatal: repository 'https://github.com/https://github.com/Muhammed799900/' not found\n"
          ]
        }
      ]
    },
    {
      "cell_type": "code",
      "source": [
        "!mv knee_osteoporosis.ipynb your-repo-name/\n"
      ],
      "metadata": {
        "colab": {
          "base_uri": "https://localhost:8080/"
        },
        "id": "QZehhuvMBTnN",
        "outputId": "f0737f1b-551b-4c83-dffb-bd6de23f835a"
      },
      "execution_count": 5,
      "outputs": [
        {
          "output_type": "stream",
          "name": "stdout",
          "text": [
            "mv: cannot stat 'knee_osteoporosis.ipynb': No such file or directory\n"
          ]
        }
      ]
    },
    {
      "cell_type": "code",
      "source": [],
      "metadata": {
        "id": "99PkeyE9BTpE"
      },
      "execution_count": null,
      "outputs": []
    },
    {
      "cell_type": "code",
      "source": [],
      "metadata": {
        "id": "-GA3B51TBTsT"
      },
      "execution_count": null,
      "outputs": []
    },
    {
      "cell_type": "code",
      "source": [],
      "metadata": {
        "id": "Ug5kEIAlBTt_"
      },
      "execution_count": null,
      "outputs": []
    }
  ]
}